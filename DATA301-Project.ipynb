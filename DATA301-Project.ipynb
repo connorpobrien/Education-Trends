{
 "cells": [
  {
   "cell_type": "code",
   "execution_count": null,
   "metadata": {},
   "outputs": [],
   "source": [
    "# NBA Players: https://www.kaggle.com/datasets/justinas/nba-players-data\n",
    "# Biometric, biographic and basic box score features from 1996 to 2021 season\n",
    "\n",
    "# NBA Dataset: https://www.kaggle.com/datasets/wyattowalsh/basketball?resource=download\n",
    "# 64,000+ Games, 4800+ Players, and 30 Teams"
   ]
  },
  {
   "cell_type": "code",
   "execution_count": 6,
   "metadata": {},
   "outputs": [],
   "source": [
    "import pandas as pd\n",
    "import numpy as np\n",
    "import matplotlib.pyplot as plt\n",
    "\n",
    "# import nba players dataset into pandas dataframe\n",
    "nba_players = pd.read_csv('Datasets/NBA-Players/all_seasons.csv')\n",
    "\n"
   ]
  },
  {
   "cell_type": "code",
   "execution_count": 8,
   "metadata": {},
   "outputs": [
    {
     "name": "stderr",
     "output_type": "stream",
     "text": [
      "/var/folders/6g/m0n1hp9d3rq7zbvnpvgx4hhw0000gp/T/ipykernel_17313/3622056310.py:8: DtypeWarning: Columns (4) have mixed types. Specify dtype option on import or set low_memory=False.\n",
      "  inactive_players = pd.read_csv('Datasets/NBA-Dataset/inactive_players.csv')\n"
     ]
    }
   ],
   "source": [
    "# load NBA players datasets into pandas dataframe\n",
    "common_player_info = pd.read_csv('Datasets/NBA-Dataset/common_player_info.csv')\n",
    "draft_combine_stats = pd.read_csv('Datasets/NBA-Dataset/draft_combine_stats.csv')\n",
    "draft_history = pd.read_csv('Datasets/NBA-Dataset/draft_history.csv')\n",
    "game_info = pd.read_csv('Datasets/NBA-Dataset/game_info.csv')\n",
    "game_summary = pd.read_csv('Datasets/NBA-Dataset/game_summary.csv')\n",
    "game = pd.read_csv('Datasets/NBA-Dataset/game.csv')\n",
    "inactive_players = pd.read_csv('Datasets/NBA-Dataset/inactive_players.csv')\n",
    "line_score = pd.read_csv('Datasets/NBA-Dataset/line_score.csv')\n",
    "officials = pd.read_csv('Datasets/NBA-Dataset/officials.csv')\n",
    "other_stats = pd.read_csv('Datasets/NBA-Dataset/other_stats.csv')   \n",
    "player = pd.read_csv('Datasets/NBA-Dataset/player.csv')\n",
    "team_details = pd.read_csv('Datasets/NBA-Dataset/team_details.csv')\n",
    "team_history = pd.read_csv('Datasets/NBA-Dataset/team_history.csv')\n",
    "team_info_common = pd.read_csv('Datasets/NBA-Dataset/team_info_common.csv')\n",
    "team = pd.read_csv('Datasets/NBA-Dataset/team.csv')"
   ]
  }
 ],
 "metadata": {
  "kernelspec": {
   "display_name": "Python 3",
   "language": "python",
   "name": "python3"
  },
  "language_info": {
   "codemirror_mode": {
    "name": "ipython",
    "version": 3
   },
   "file_extension": ".py",
   "mimetype": "text/x-python",
   "name": "python",
   "nbconvert_exporter": "python",
   "pygments_lexer": "ipython3",
   "version": "3.11.1"
  },
  "orig_nbformat": 4
 },
 "nbformat": 4,
 "nbformat_minor": 2
}
