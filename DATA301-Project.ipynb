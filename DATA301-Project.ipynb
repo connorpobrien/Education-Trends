{
 "cells": [
  {
   "cell_type": "code",
   "execution_count": null,
   "metadata": {},
   "outputs": [],
   "source": [
    "# NBA Players: https://www.kaggle.com/datasets/justinas/nba-players-data\n",
    "# \n",
    "\n",
    "# NBA Dataset: https://www.kaggle.com/datasets/wyattowalsh/basketball?resource=download\n",
    "# 64,000+ Games, 4800+ Players, and 30 Teams\n",
    "\n"
   ]
  }
 ],
 "metadata": {
  "language_info": {
   "name": "python"
  },
  "orig_nbformat": 4
 },
 "nbformat": 4,
 "nbformat_minor": 2
}
