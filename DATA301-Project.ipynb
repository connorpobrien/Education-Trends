{
 "cells": [
  {
   "cell_type": "code",
   "execution_count": null,
   "metadata": {},
   "outputs": [],
   "source": [
    "# NBA Players: https://www.kaggle.com/datasets/justinas/nba-players-data\n",
    "# Biometric, biographic and basic box score features from 1996 to 2021 season\n",
    "\n",
    "# NBA Dataset: https://www.kaggle.com/datasets/wyattowalsh/basketball?resource=download\n",
    "# 64,000+ Games, 4800+ Players, and 30 Teams"
   ]
  },
  {
   "cell_type": "code",
   "execution_count": 6,
   "metadata": {},
   "outputs": [],
   "source": [
    "import pandas as pd\n",
    "import numpy as np\n",
    "import matplotlib.pyplot as plt\n",
    "\n",
    "# import nba players dataset into pandas dataframe\n",
    "nba_players = pd.read_csv('Datasets/NBA-Players/all_seasons.csv')"
   ]
  },
  {
   "cell_type": "code",
   "execution_count": 9,
   "metadata": {},
   "outputs": [],
   "source": [
    "# load NBA players datasets into pandas dataframe\n",
    "common_player_info = pd.read_csv('Datasets/NBA-Dataset/common_player_info.csv')\n",
    "draft_combine_stats = pd.read_csv('Datasets/NBA-Dataset/draft_combine_stats.csv')\n",
    "draft_history = pd.read_csv('Datasets/NBA-Dataset/draft_history.csv')\n",
    "game_info = pd.read_csv('Datasets/NBA-Dataset/game_info.csv')\n",
    "game_summary = pd.read_csv('Datasets/NBA-Dataset/game_summary.csv')\n",
    "game = pd.read_csv('Datasets/NBA-Dataset/game.csv')\n",
    "inactive_players = pd.read_csv('Datasets/NBA-Dataset/inactive_players.csv', low_memory=False)\n",
    "line_score = pd.read_csv('Datasets/NBA-Dataset/line_score.csv')\n",
    "officials = pd.read_csv('Datasets/NBA-Dataset/officials.csv')\n",
    "other_stats = pd.read_csv('Datasets/NBA-Dataset/other_stats.csv')   \n",
    "player = pd.read_csv('Datasets/NBA-Dataset/player.csv')\n",
    "team_details = pd.read_csv('Datasets/NBA-Dataset/team_details.csv')\n",
    "team_history = pd.read_csv('Datasets/NBA-Dataset/team_history.csv')\n",
    "team_info_common = pd.read_csv('Datasets/NBA-Dataset/team_info_common.csv')\n",
    "team = pd.read_csv('Datasets/NBA-Dataset/team.csv')"
   ]
  },
  {
   "cell_type": "code",
   "execution_count": null,
   "metadata": {},
   "outputs": [],
   "source": [
    "# combine and filter datasets"
   ]
  }
 ],
 "metadata": {
  "kernelspec": {
   "display_name": "Python 3",
   "language": "python",
   "name": "python3"
  },
  "language_info": {
   "codemirror_mode": {
    "name": "ipython",
    "version": 3
   },
   "file_extension": ".py",
   "mimetype": "text/x-python",
   "name": "python",
   "nbconvert_exporter": "python",
   "pygments_lexer": "ipython3",
   "version": "3.11.1"
  },
  "orig_nbformat": 4
 },
 "nbformat": 4,
 "nbformat_minor": 2
}
